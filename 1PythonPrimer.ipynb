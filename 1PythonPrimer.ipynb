{
 "cells": [
  {
   "cell_type": "markdown",
   "metadata": {},
   "source": [
    "# 1 Python Primer\n",
    "## 1.1 Python Overview\n",
    "A preview of a python program:"
   ]
  },
  {
   "cell_type": "code",
   "execution_count": 1,
   "metadata": {},
   "outputs": [
    {
     "name": "stdout",
     "output_type": "stream",
     "text": [
      "Welcome to the GPA CAlulator.\n",
      "Please enter all your letter grades, one per line.\n",
      "Enter a blank line to designate the end.\n",
      "A\n",
      "A+\n",
      "A-\n",
      "\n",
      "Your GPA is 3.89\n"
     ]
    }
   ],
   "source": [
    "'''\n",
    "GPA Calculator\n",
    "Python script in subsection 1.1.2 of Goodrich, etal (2013, pp.3)\n",
    "'''\n",
    "\n",
    "print('Welcome to the GPA CAlulator.')\n",
    "print('Please enter all your letter grades, one per line.')\n",
    "print('Enter a blank line to designate the end.')\n",
    "\n",
    "# Map from letter grade to point value\n",
    "points = {'A+': 4.00, 'A': 4.00, 'A-': 3.67, \n",
    "\t\t  'B+': 3.33, 'B': 3.00, 'B-': 2.67,\n",
    "\t\t  'C+': 2.33, 'C': 2.00, 'C-': 1.67,\n",
    "\t\t  'D+': 1.33, 'D': 1.00, 'F': 0.00}\n",
    "\n",
    "num_courses = 0\n",
    "total_points = 0\n",
    "done = False\n",
    "\n",
    "while not done:\n",
    "\tgrade = input()\n",
    "\n",
    "\tif grade == '':\n",
    "\t\tdone = True\n",
    "\telif grade not in points:\n",
    "\t\tprint(\"Unknown grade '{0}' being ignored.\".format(grade))\n",
    "\telse:\n",
    "\t\tnum_courses += 1\n",
    "\t\ttotal_points += points[grade]\n",
    "\n",
    "if num_courses > 0:\n",
    "\tprint(\"Your GPA is {0:.3}\".format(total_points/num_courses))"
   ]
  },
  {
   "cell_type": "markdown",
   "metadata": {},
   "source": [
    "## 1.2 Objects in Python\n",
    "One of the main ideas of the object-oriented approach  is that data should be presented as being encapsulated with the methods that access and modify them. That is, rather than simply viewing data as a collection of bytes and addresses, we think of data objects as instances of an abstract data type (ADT), which includes a repertoire of methods for performing operations on data objects of this type.\n",
    "\n",
    "### Creating and Using Objects\n",
    "#### Calling Methods\n",
    "If `response` identifies a string instance, the syntax\n",
    "\n",
    "`response.lower().startswith('a')`\n",
    "\n",
    "first evaluates the mothod call `lower()` (returning a new string instance) and then the `startswith()` method is called on that intermediate string. \n",
    "\n",
    "### Built-in Calsses in Python\n",
    "#### The bool Class\n",
    "If `foo` is a number (`int` or `float`):\n",
    "$$\n",
    "\\texttt{bool(foo)} = \\left\\{\n",
    "\\begin{aligned}\n",
    "    \\texttt{False} & \\textrm{ if }\\texttt{foo == 0;} \\\\\n",
    "    \\texttt{True} & \\textrm{ if }\\texttt{foo != 0.}\n",
    "\\end{aligned}\n",
    "\\right.\n",
    "$$\n",
    "\n",
    "If `foo` is a sequence or another container type (`str` or `list`):\n",
    "$$\n",
    "\\texttt{bool(foo)} = \\left\\{\n",
    "\\begin{aligned}\n",
    "    \\texttt{False} & \\textrm{ if }\\texttt{foo}\\textrm{ is empty;} \\\\\n",
    "    \\texttt{True} & \\textrm{ if }\\texttt{foo}\\textrm{ is nonempty.}\n",
    "\\end{aligned}\n",
    "\\right.\n",
    "$$\n",
    "\n",
    "#### The int and float Classes\n",
    "Integral values can be expressed using binary, octal, and hexadecimal with a prefix of the number 0 and then a character to describe the base:"
   ]
  },
  {
   "cell_type": "code",
   "execution_count": 2,
   "metadata": {},
   "outputs": [
    {
     "name": "stdout",
     "output_type": "stream",
     "text": [
      "11 42 127\n"
     ]
    }
   ],
   "source": [
    "bin_num = 0b1011\n",
    "oct_num = 0o52\n",
    "hex_num = 0x7f\n",
    "print(bin_num, oct_num, hex_num)"
   ]
  },
  {
   "cell_type": "markdown",
   "metadata": {},
   "source": [
    "When converting a `string` to an `int`, the base other than 10 can be indicated as a second optional parameter:"
   ]
  },
  {
   "cell_type": "code",
   "execution_count": 4,
   "metadata": {},
   "outputs": [
    {
     "name": "stdout",
     "output_type": "stream",
     "text": [
      "127\n"
     ]
    }
   ],
   "source": [
    "hex_num = int('0x7f', 16)\n",
    "print(hex_num)"
   ]
  },
  {
   "cell_type": "markdown",
   "metadata": {},
   "source": [
    "#### The list, tuple, and str Classes\n",
    "Lists are array-based sequences and zero-indexed. \n",
    "\n",
    "The tuple class provies an immutable version of a sequence. To express a tuple of length one, a comma must be placed after the element, just like `(17,)` .\n",
    "\n",
    "The str class is specifically designed to efficiently represent an immutable sequence of characters, based upon the Unicode international character set."
   ]
  },
  {
   "cell_type": "code",
   "execution_count": 6,
   "metadata": {},
   "outputs": [
    {
     "name": "stdout",
     "output_type": "stream",
     "text": [
      "20\t € \n",
      "\n",
      "Welcome to the GPA calculator.\n",
      "Please enter all your letter grades, one per line.\n",
      "Enter a blank line to designate the end.\n"
     ]
    }
   ],
   "source": [
    "print('20\\t \\u20AC \\n')\n",
    "print(\"\"\"Welcome to the GPA calculator.\n",
    "Please enter all your letter grades, one per line.\n",
    "Enter a blank line to designate the end.\"\"\")"
   ]
  },
  {
   "cell_type": "markdown",
   "metadata": {},
   "source": [
    "#### The set and frozenset Classes\n",
    "The major advantage of using a set, as opposed to a list, is that it has a highly optimized method for checking whether a specific element is contained in teh set. This is based on a data structure known as a hash table. However, there are two important restrictions: The first is that the set does not maintain the elements in any particular order; The second is that only instances of immutable types can be added to a set (there is no set of lists or set of sets).\n",
    "\n",
    "The frozenset class is an immutable form of the set type.\n",
    "\n",
    "#### The dict class"
   ]
  },
  {
   "cell_type": "code",
   "execution_count": 7,
   "metadata": {},
   "outputs": [
    {
     "name": "stdout",
     "output_type": "stream",
     "text": [
      "{'ga': 'Irish', 'de': 'German'}\n"
     ]
    }
   ],
   "source": [
    "pairs = [('ga', 'Irish'), ('de', 'German')]\n",
    "dictionary = dict(pairs)\n",
    "print(dictionary)"
   ]
  },
  {
   "cell_type": "markdown",
   "metadata": {},
   "source": [
    "## 1.3 Expressions, Operators, and Precedence"
   ]
  },
  {
   "cell_type": "code",
   "execution_count": 13,
   "metadata": {},
   "outputs": [
    {
     "name": "stdout",
     "output_type": "stream",
     "text": [
      "True\n",
      "False\n",
      "True\n"
     ]
    }
   ],
   "source": [
    "a = 'hello world'\n",
    "b = a\n",
    "c = 'hello' + ' world'\n",
    "print(a is b)\n",
    "print(a is c)\n",
    "print(a == c)"
   ]
  },
  {
   "cell_type": "markdown",
   "metadata": {},
   "source": [
    "Suppose `q = m // n` and `r = m % n`, Python guarantees that `q * n + r == m` and\n",
    "$$\n",
    "\\begin{aligned}\n",
    "    0 \\leq r < n & \\textrm{ if } n > 0; \\\\\n",
    "    n < r \\leq 0 & \\textrm{ if } n > 0.\n",
    "\\end{aligned}\n",
    "$$"
   ]
  },
  {
   "cell_type": "code",
   "execution_count": 18,
   "metadata": {},
   "outputs": [
    {
     "name": "stdout",
     "output_type": "stream",
     "text": [
      "-6.75\n",
      "-7\n",
      "-1\n"
     ]
    }
   ],
   "source": [
    "print(27 / -4)\n",
    "print(27 // -4)\n",
    "print(27 % -4)"
   ]
  },
  {
   "cell_type": "code",
   "execution_count": null,
   "metadata": {},
   "outputs": [],
   "source": []
  }
 ],
 "metadata": {
  "kernelspec": {
   "display_name": "Python 3",
   "language": "python",
   "name": "python3"
  },
  "language_info": {
   "codemirror_mode": {
    "name": "ipython",
    "version": 3
   },
   "file_extension": ".py",
   "mimetype": "text/x-python",
   "name": "python",
   "nbconvert_exporter": "python",
   "pygments_lexer": "ipython3",
   "version": "3.6.3"
  }
 },
 "nbformat": 4,
 "nbformat_minor": 2
}
